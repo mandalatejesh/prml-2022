{
 "cells": [
  {
   "cell_type": "code",
   "execution_count": 1,
   "id": "9f9e2b0d",
   "metadata": {},
   "outputs": [
    {
     "name": "stdout",
     "output_type": "stream",
     "text": [
      "[ 55  84 101  96 103 129 146 145 158 131 117 103  79  81  96  93  77 127\n",
      " 231 211  96  77 112 113 104 146 174 126  70  56  54  67  71  88  70  93\n",
      " 123 160 210 186 107  96 109 136 121  90  93  79  87  82  75  48  60  81\n",
      "  76 107 109 123 202 217 233 237 237 226 221 227 233 234 227 219 217 220\n",
      " 190 168 154 164 160 150 152 145 132 120 129 141 126 113 126 144 114 100\n",
      "  87  96 117 123 129 144 139 122 116 123 136 153 163 157 155 145 149 136\n",
      " 117 146 173 156 144 137 128 119 111 108 114 124  88 119 144 129 119 165\n",
      " 205 195 177 171 160 160 167 158 147 151 135 136 118 115 142 155 154 163\n",
      " 172 179 177 167 160 154 137 118 114  96 109 128 128 144 160 149 171 180\n",
      " 197 204 196 195 192 181 165 189 165 119 114 123 115 108  97 108 109 101\n",
      " 103 111 105  90  95  97  81  66  74  83  84  85  74  50  38  54  48  52\n",
      "  84  86  93 109 117 114 112 114 106  92  90  76  90  87  90  96  79  89\n",
      "  88 104 136 174 174 124  90 101  94 107 122 128 127 127 129 131 111 116\n",
      " 128 127 108  95  95  96 112 149 185 201 162 117 112 104 110 116 118 122\n",
      " 119  95  75  78]\n"
     ]
    },
    {
     "ename": "ValueError",
     "evalue": "shapes (256,256) and (10,256) not aligned: 256 (dim 1) != 10 (dim 0)",
     "output_type": "error",
     "traceback": [
      "\u001b[0;31m---------------------------------------------------------------------------\u001b[0m",
      "\u001b[0;31mValueError\u001b[0m                                Traceback (most recent call last)",
      "\u001b[0;32m/tmp/ipykernel_10116/784609031.py\u001b[0m in \u001b[0;36m<module>\u001b[0;34m\u001b[0m\n\u001b[1;32m     27\u001b[0m \u001b[0;31m#     imageio.imwrite(\"./output/pca_output_\"+str(k)+\".jpg\", img_recon)\u001b[0m\u001b[0;34m\u001b[0m\u001b[0;34m\u001b[0m\u001b[0m\n\u001b[1;32m     28\u001b[0m \u001b[0mnp\u001b[0m\u001b[0;34m.\u001b[0m\u001b[0mabs\u001b[0m\u001b[0;34m(\u001b[0m\u001b[0meigen_vectors\u001b[0m\u001b[0;34m)\u001b[0m\u001b[0;34m\u001b[0m\u001b[0;34m\u001b[0m\u001b[0m\n\u001b[0;32m---> 29\u001b[0;31m \u001b[0mnew\u001b[0m \u001b[0;34m=\u001b[0m \u001b[0mrecoverData\u001b[0m\u001b[0;34m(\u001b[0m\u001b[0marray\u001b[0m\u001b[0;34m,\u001b[0m \u001b[0meigen_vectors\u001b[0m\u001b[0;34m,\u001b[0m \u001b[0;36m10\u001b[0m\u001b[0;34m)\u001b[0m\u001b[0;34m\u001b[0m\u001b[0;34m\u001b[0m\u001b[0m\n\u001b[0m\u001b[1;32m     30\u001b[0m \u001b[0mimageio\u001b[0m\u001b[0;34m.\u001b[0m\u001b[0mimwrite\u001b[0m\u001b[0;34m(\u001b[0m\u001b[0;34m\"./output/normal.jpg\"\u001b[0m\u001b[0;34m,\u001b[0m \u001b[0mnew\u001b[0m\u001b[0;34m)\u001b[0m\u001b[0;34m\u001b[0m\u001b[0;34m\u001b[0m\u001b[0m\n",
      "\u001b[0;32m/tmp/ipykernel_10116/784609031.py\u001b[0m in \u001b[0;36mrecoverData\u001b[0;34m(Z, U, K)\u001b[0m\n\u001b[1;32m     15\u001b[0m     \u001b[0mnew_U\u001b[0m \u001b[0;34m=\u001b[0m \u001b[0mU\u001b[0m\u001b[0;34m[\u001b[0m\u001b[0;34m:\u001b[0m\u001b[0;34m,\u001b[0m \u001b[0;34m:\u001b[0m\u001b[0mK\u001b[0m\u001b[0;34m]\u001b[0m\u001b[0;34m\u001b[0m\u001b[0;34m\u001b[0m\u001b[0m\n\u001b[1;32m     16\u001b[0m     \u001b[0;31m# We can use transpose instead of inverse because U is orthogonal.\u001b[0m\u001b[0;34m\u001b[0m\u001b[0;34m\u001b[0m\u001b[0m\n\u001b[0;32m---> 17\u001b[0;31m     \u001b[0;32mreturn\u001b[0m \u001b[0mZ\u001b[0m\u001b[0;34m.\u001b[0m\u001b[0mdot\u001b[0m\u001b[0;34m(\u001b[0m\u001b[0mnew_U\u001b[0m\u001b[0;34m.\u001b[0m\u001b[0mT\u001b[0m\u001b[0;34m)\u001b[0m\u001b[0;34m\u001b[0m\u001b[0;34m\u001b[0m\u001b[0m\n\u001b[0m\u001b[1;32m     18\u001b[0m \u001b[0;34m\u001b[0m\u001b[0m\n\u001b[1;32m     19\u001b[0m \u001b[0;34m\u001b[0m\u001b[0m\n",
      "\u001b[0;31mValueError\u001b[0m: shapes (256,256) and (10,256) not aligned: 256 (dim 1) != 10 (dim 0)"
     ]
    }
   ],
   "source": [
    "# import matplotlib.image as img\n",
    "# import matplotlib.pyplot as plt\n",
    "from PIL import Image\n",
    "from numpy import linalg as numLib\n",
    "from sklearn.decomposition import PCA, IncrementalPCA\n",
    "import imageio\n",
    "import numpy as np\n",
    "\n",
    "\n",
    "def recoverData(Z, U, K):\n",
    "    # Compute the approximation of the data by projecting back onto\n",
    "    # the original space using the top K eigenvectors in U.\n",
    "    # Z: projected data\n",
    "\n",
    "    new_U = U[:, :K]\n",
    "    # We can use transpose instead of inverse because U is orthogonal.\n",
    "    return Z.dot(new_U.T)\n",
    "\n",
    "\n",
    "image = Image.open(r'./problem/69.jpg')\n",
    "array = np.array(image)\n",
    "print(array[0])\n",
    "eigen_values, eigen_vectors = numLib.eig(array*(array.T))\n",
    "# for k in [10, 50, 100, 150, 200, 250]:\n",
    "#     ipca = IncrementalPCA(n_components=k)\n",
    "#     img_recon = ipca.inverse_transform(ipca.fit_transform(image))\n",
    "#     imageio.imwrite(\"./output/pca_output_\"+str(k)+\".jpg\", img_recon)\n",
    "np.abs(eigen_vectors)\n",
    "new = recoverData(array, eigen_vectors, 10)\n",
    "imageio.imwrite(\"./output/normal.jpg\", new)"
   ]
  },
  {
   "cell_type": "code",
   "execution_count": null,
   "id": "56b35a17",
   "metadata": {},
   "outputs": [],
   "source": []
  }
 ],
 "metadata": {
  "kernelspec": {
   "display_name": "Python 3 (ipykernel)",
   "language": "python",
   "name": "python3"
  },
  "language_info": {
   "codemirror_mode": {
    "name": "ipython",
    "version": 3
   },
   "file_extension": ".py",
   "mimetype": "text/x-python",
   "name": "python",
   "nbconvert_exporter": "python",
   "pygments_lexer": "ipython3",
   "version": "3.9.7"
  }
 },
 "nbformat": 4,
 "nbformat_minor": 5
}
